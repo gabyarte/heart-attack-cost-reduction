{
 "cells": [
  {
   "cell_type": "code",
   "execution_count": 518,
   "metadata": {},
   "outputs": [],
   "source": [
    "import pandas as pd\n",
    "import numpy as np\n",
    "from sklearn.discriminant_analysis import LinearDiscriminantAnalysis\n",
    "from sklearn.model_selection import (cross_val_score, RepeatedStratifiedKFold, GridSearchCV)\n",
    "from sklearn.metrics import confusion_matrix\n",
    "from paths import RAW_DIR"
   ]
  },
  {
   "cell_type": "code",
   "execution_count": 519,
   "metadata": {},
   "outputs": [
    {
     "name": "stdout",
     "output_type": "stream",
     "text": [
      "<class 'pandas.core.frame.DataFrame'>\n",
      "RangeIndex: 253680 entries, 0 to 253679\n",
      "Data columns (total 20 columns):\n",
      " #   Column                Non-Null Count   Dtype  \n",
      "---  ------                --------------   -----  \n",
      " 0   HeartDiseaseorAttack  253680 non-null  float64\n",
      " 1   HighBP                253680 non-null  float64\n",
      " 2   HighChol              253680 non-null  float64\n",
      " 3   CholCheck             253680 non-null  float64\n",
      " 4   BMI                   253680 non-null  float64\n",
      " 5   Smoker                253680 non-null  float64\n",
      " 6   Stroke                253680 non-null  float64\n",
      " 7   Diabetes              253680 non-null  float64\n",
      " 8   PhysActivity          253680 non-null  float64\n",
      " 9   Fruits                253680 non-null  float64\n",
      " 10  Veggies               253680 non-null  float64\n",
      " 11  HvyAlcoholConsump     253680 non-null  float64\n",
      " 12  GenHlth               253680 non-null  float64\n",
      " 13  MentHlth              253680 non-null  float64\n",
      " 14  PhysHlth              253680 non-null  float64\n",
      " 15  DiffWalk              253680 non-null  float64\n",
      " 16  Sex                   253680 non-null  float64\n",
      " 17  Age                   253680 non-null  float64\n",
      " 18  Education             253680 non-null  float64\n",
      " 19  Income                253680 non-null  float64\n",
      "dtypes: float64(20)\n",
      "memory usage: 38.7 MB\n"
     ]
    }
   ],
   "source": [
    "data = pd.read_csv(RAW_DIR / 'heart_disease.csv')\n",
    "data.info()"
   ]
  },
  {
   "cell_type": "code",
   "execution_count": 520,
   "metadata": {},
   "outputs": [
    {
     "name": "stdout",
     "output_type": "stream",
     "text": [
      "Current cost: 1194650000 €\n",
      "New cost: 955720000.0 €\n"
     ]
    },
    {
     "data": {
      "text/plain": [
       "0.09418558814254178"
      ]
     },
     "execution_count": 520,
     "metadata": {},
     "output_type": "execute_result"
    }
   ],
   "source": [
    "# General constants -> TODO uppercase all constants\n",
    "goal_cost_reduction = 0.8\n",
    "risk_reduction = 0.25\n",
    "accept_prob = 0.85\n",
    "heart_attack_treatment_cost = 50000\n",
    "plan_cost = 1000\n",
    "\n",
    "# Proportion of people who suffers a heart attack (estimation).\n",
    "heart_attack_estimation = len(data[data['HeartDiseaseorAttack'] == 1])\n",
    "\n",
    "current_cost = heart_attack_estimation * heart_attack_treatment_cost\n",
    "new_cost = 0.8 * current_cost  \n",
    "\n",
    "print(\"Current cost:\", current_cost, \"€\")\n",
    "print(\"New cost:\", new_cost, \"€\")\n",
    "len(data[data['HeartDiseaseorAttack'] == 1]) / len(data)"
   ]
  },
  {
   "attachments": {},
   "cell_type": "markdown",
   "metadata": {},
   "source": [
    "$$\n",
    "R = 50000 * FN \\\\\n",
    "+ 50000 * 0.15 * TP \\\\\n",
    "+ 0.85 * (1 - A_p) * TP * 50000 \\\\\n",
    "+ 0.85 * (1 - A_p) * TP * 1000 \\\\\n",
    "+ 0.85 * (1 - A_p) * FP * 1000 \\\\\n",
    "+ 0.85 * A_p * TP * 0.25 * 50000 \\\\\n",
    "+ 0.85 * A_p * TP * 0.25 * 1000 \\\\\n",
    "+ 0.85 * A_p * FP * 1000 \\\\\n",
    "+ 0.85 * A_p * TP * 0.75 * 1000\n",
    "$$\n",
    "---\n",
    "$$\n",
    "R = 50000 * (FN + 0.15 * TP)\n",
    "+ 0.85 * 50000 * TP (A_p * 0.25 + 1 - A_p)\n",
    "+ 0.85 * 1000 * (1 - A_p) * (TP + FP)\n",
    "+ 0.85 * 1000 * A_p* (FP + TP)\n",
    "$$\n",
    "---\n",
    "$$\n",
    "R = 50000 * (FN + 0.15 * TP) ;; the ones that have heart attacks but were not offered the plan or didn't accept it\n",
    "+ 0.85 * 1000 * (TP + FP) ;; the ones that were offered the plan and accepted it\n",
    "+ 0.85 * 50000 * TP (1 - 0.75 A_p) ;; the ones that accepted the plan, but don't reduce their risk or don't adhere to the plan\n",
    "$$\n",
    "---\n",
    "$$\n",
    "\\frac{(R \n",
    "- 50000 * (FN + 0.15 * TP) \n",
    "- 0.85 * 1000 * (TP + FP)\n",
    "- 0.85 * 50000 * TP)}{-0.85 * 50000 * TP * 0.75} = A_p \n",
    "$$"
   ]
  },
  {
   "attachments": {},
   "cell_type": "markdown",
   "metadata": {},
   "source": [
    "### Cases\n",
    "- no plan(N) = TN + FN: \n",
    "  - Case 1: heart attack (not predicted) => FN => 50000\n",
    "\n",
    "- plan(P) = TP + FP: \n",
    "  - not accept => 0.15 (TP + FP)\n",
    "    - Case 2: heart attack (predicted, not accepted) => 0.15 * TP => 50000\n",
    "  - accept => 0.85 (TP + FP)\n",
    "    - not adhere\n",
    "      - Case 3: heart attack (predicted, accepted, not adhered) => 0.85 (1 - A_p) TP => 51000\n",
    "      - Case 4: not heart attack (predicted, accepted, not adhered) => 0.85 (1 - A_p) FP => 1000\n",
    "    - adhere => A_p\n",
    "      - Case 5: heart attack (predicted, accepted, adhered) => 0.85 * A_p * TP * 0.25 => 51000\n",
    "      - Case 6: not heart attack (predicted, accepted, adhered) => 0.85 * A_p * FP + 0.85 * A_p * TP * 0.75 => 1000\n",
    "\n",
    "### Variables\n",
    "- risk_reduction = 0.75\n",
    "- accept_prob = 0.85\n",
    "- adherence_prob = 0 # need to calculate\n",
    "\n",
    "Following the list above we have 6 different cost cases in the new system\n",
    "- case_1 = heart_attack_treatment_cost * false_negative\n",
    "- case_2 = heart_attack_treatment_cost * (1 - accept_prob) * true_positive\n",
    "- case_3 = heart_attack_treatment_cost + plan_cost * accept_prob * (1 - adherence_prob) * true_positive\n",
    "- case_4 = plan_cost * accept_prob * (1 - adherence_prob) * false_positive\n",
    "- case_5 = heart_attack_treatment_cost + plan_cost * accept_prob * adherence_prob * risk_reduction * true_positive\n",
    "- case_6 = plan_cost * accept_prob * adherence_prob * false_positive + accept_prob * adherence_prob * (1 - risk_reduction) * true_positive\n",
    "\n",
    "new_cost_formula = case_1 + case_2 + case_3 + case_4 + case_5 + case_6\n",
    "\n",
    "-> get adherence from: new_cost = 0.8 * old_cost"
   ]
  },
  {
   "cell_type": "code",
   "execution_count": 521,
   "metadata": {},
   "outputs": [],
   "source": [
    "TARGET = 'HeartDiseaseorAttack'\n",
    "\n",
    "y = data[TARGET]\n",
    "X = data.drop(TARGET, axis=1)"
   ]
  },
  {
   "cell_type": "code",
   "execution_count": 522,
   "metadata": {},
   "outputs": [
    {
     "name": "stdout",
     "output_type": "stream",
     "text": [
      "Mean Accuracy: 0.902 (0.001)\n"
     ]
    }
   ],
   "source": [
    "discriminant_analysis = LinearDiscriminantAnalysis()\n",
    "cv = RepeatedStratifiedKFold(n_splits=10, n_repeats=3, random_state=1)\n",
    "scores = cross_val_score(\n",
    "    discriminant_analysis, X, y,\n",
    "    scoring='accuracy',\n",
    "    cv=cv,\n",
    "    n_jobs=-1)\n",
    "\n",
    "print('Mean Accuracy: %.3f (%.3f)' % (np.mean(scores), np.std(scores)))"
   ]
  },
  {
   "cell_type": "code",
   "execution_count": 523,
   "metadata": {},
   "outputs": [],
   "source": [
    "lda_model = discriminant_analysis.fit(X, y)\n",
    "pred = discriminant_analysis.predict(X)"
   ]
  },
  {
   "cell_type": "code",
   "execution_count": 524,
   "metadata": {},
   "outputs": [
    {
     "name": "stdout",
     "output_type": "stream",
     "text": [
      "        Predicted 0  Predicted 1\n",
      "True 0       224121         5666\n",
      "True 1        19146         4747\n"
     ]
    }
   ],
   "source": [
    "conf = pd.DataFrame(\n",
    "  confusion_matrix(y, pred),\n",
    "  columns = ['Predicted 0', 'Predicted 1'],\n",
    "  index = ['True 0', 'True 1']\n",
    ")\n",
    "print(conf)"
   ]
  },
  {
   "cell_type": "code",
   "execution_count": 525,
   "metadata": {},
   "outputs": [
    {
     "name": "stdout",
     "output_type": "stream",
     "text": [
      "224121 19146 5666 4747\n"
     ]
    }
   ],
   "source": [
    "conf = confusion_matrix(y, pred)\n",
    "true_negative = conf[0][0]\n",
    "false_negative = conf[1][0]\n",
    "false_positive = conf[0][1]\n",
    "true_positive = conf[1][1]\n",
    "\n",
    "print(true_negative, false_negative, false_positive, true_positive)"
   ]
  },
  {
   "cell_type": "code",
   "execution_count": 526,
   "metadata": {},
   "outputs": [
    {
     "name": "stdout",
     "output_type": "stream",
     "text": [
      "Original population: 253680 \n",
      "New population: 253680\n",
      "True\n"
     ]
    }
   ],
   "source": [
    "# check if formula is correct and takes into account the whole population\n",
    "adherence_prob = 0.5 # cte as example\n",
    "\n",
    "case_1 = false_negative\n",
    "case_1f = true_negative # this case has no cost\n",
    "case_2 = (1 - accept_prob) * true_positive\n",
    "case_2f = (1 - accept_prob) * false_positive # this case has no cost\n",
    "case_3 = accept_prob * (1 - adherence_prob) * true_positive\n",
    "case_4 = accept_prob * (1 - adherence_prob) * false_positive\n",
    "case_5 = accept_prob * adherence_prob * risk_reduction * true_positive\n",
    "case_6 = accept_prob * adherence_prob * false_positive + accept_prob * adherence_prob * (1 - risk_reduction) * true_positive\n",
    "\n",
    "new_total_population = case_1 + case_1f + case_2 + case_2f + case_3 + case_4 + case_5 + case_6\n",
    "\n",
    "print(\"Original population:\", len(data), \"\\nNew population:\", round(new_total_population))\n",
    "print(len(data) == round(new_total_population))"
   ]
  },
  {
   "cell_type": "code",
   "execution_count": 527,
   "metadata": {},
   "outputs": [
    {
     "name": "stdout",
     "output_type": "stream",
     "text": [
      "453369675 €\n",
      "0.3795 %\n"
     ]
    }
   ],
   "source": [
    "# Ideal case should test\n",
    "true_negative = 229787\n",
    "false_negative = 0\n",
    "false_positive = 0\n",
    "true_positive = 23893\n",
    "adherence_prob = 1 \n",
    "\n",
    "new_cost = (\n",
    "  false_negative * heart_attack_treatment_cost +\n",
    "  (1 - accept_prob) * true_positive * heart_attack_treatment_cost +\n",
    "  accept_prob * (1 - adherence_prob) * true_positive * (heart_attack_treatment_cost + plan_cost) +\n",
    "  accept_prob * (1 - adherence_prob) * false_positive * plan_cost +\n",
    "  accept_prob * adherence_prob * risk_reduction * true_positive * (heart_attack_treatment_cost + plan_cost) + \n",
    "  accept_prob * adherence_prob * false_positive * plan_cost +\n",
    "  accept_prob * adherence_prob * (1 - risk_reduction) * true_positive * plan_cost\n",
    "  )\n",
    "\n",
    "print(round(new_cost), \"€\")\n",
    "print(new_cost / current_cost, \"%\")"
   ]
  },
  {
   "cell_type": "code",
   "execution_count": 528,
   "metadata": {},
   "outputs": [
    {
     "name": "stdout",
     "output_type": "stream",
     "text": [
      "453369675.0 €\n",
      "0.3795 %\n"
     ]
    }
   ],
   "source": [
    "# cost if model was perfect and 100% adherence\n",
    "best_cost = 51000 * heart_attack_estimation * 0.25 * 0.85 + 1000 * heart_attack_estimation * 0.75  * 0.85 + 50000 * 0.15 * heart_attack_estimation \n",
    "print(best_cost, \"€\")\n",
    "print(best_cost / current_cost, \"%\")"
   ]
  },
  {
   "cell_type": "code",
   "execution_count": 529,
   "metadata": {},
   "outputs": [
    {
     "name": "stdout",
     "output_type": "stream",
     "text": [
      "453369675.0 €\n",
      "0.3795 %\n"
     ]
    },
    {
     "data": {
      "text/plain": [
       "0.0"
      ]
     },
     "execution_count": 529,
     "metadata": {},
     "output_type": "execute_result"
    }
   ],
   "source": [
    "# Summarized formula\n",
    "best_cost_ = (  \n",
    "  heart_attack_treatment_cost * (false_negative + true_positive) + accept_prob * plan_cost * (true_positive + false_positive) +\n",
    "  adherence_prob * accept_prob * true_positive * heart_attack_treatment_cost * (risk_reduction - 1)\n",
    ")\n",
    "\n",
    "print(best_cost_, \"€\")\n",
    "print(best_cost_ / current_cost, \"%\")\n",
    "best_cost_ - best_cost"
   ]
  },
  {
   "cell_type": "code",
   "execution_count": 530,
   "metadata": {},
   "outputs": [
    {
     "data": {
      "text/plain": [
       "True"
      ]
     },
     "execution_count": 530,
     "metadata": {},
     "output_type": "execute_result"
    }
   ],
   "source": [
    "# new_cost = current_cost * 0.8 -> get adherence from this assumption. Just to check formula\n",
    "adherence_prob == (current_cost * (best_cost_ / current_cost) - heart_attack_treatment_cost * (false_negative + true_positive) - accept_prob * plan_cost * (true_positive + false_positive)) / (accept_prob * true_positive * heart_attack_treatment_cost * (risk_reduction - 1))\n"
   ]
  },
  {
   "cell_type": "code",
   "execution_count": 531,
   "metadata": {},
   "outputs": [],
   "source": [
    "# model gives us confusion matrix values and the rest are pre-defined constants -> we can get adherence for a given model and fixed goal cost reduction\n",
    "adherence_prob = (\n",
    "  (current_cost * goal_cost_reduction - heart_attack_treatment_cost * (false_negative + true_positive) - accept_prob * plan_cost * (true_positive + false_positive)) / \n",
    "  (accept_prob * true_positive * heart_attack_treatment_cost * (risk_reduction - 1))\n",
    "  )\n"
   ]
  },
  {
   "cell_type": "code",
   "execution_count": null,
   "metadata": {},
   "outputs": [],
   "source": [
    "# TODO search through different models the one that accomplish goal cost reduction and has the lowest adherence required"
   ]
  }
 ],
 "metadata": {
  "kernelspec": {
   "display_name": "heart-disease",
   "language": "python",
   "name": "python3"
  },
  "language_info": {
   "codemirror_mode": {
    "name": "ipython",
    "version": 3
   },
   "file_extension": ".py",
   "mimetype": "text/x-python",
   "name": "python",
   "nbconvert_exporter": "python",
   "pygments_lexer": "ipython3",
   "version": "3.10.8 | packaged by conda-forge | (main, Nov 24 2022, 14:07:00) [MSC v.1916 64 bit (AMD64)]"
  },
  "orig_nbformat": 4,
  "vscode": {
   "interpreter": {
    "hash": "de77a653a4b3320765c64bb1bf99afc6cca0291a299964ed307e2be0e12db7f3"
   }
  }
 },
 "nbformat": 4,
 "nbformat_minor": 2
}
