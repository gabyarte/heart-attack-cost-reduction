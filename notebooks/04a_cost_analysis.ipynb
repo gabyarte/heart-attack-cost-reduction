{
 "cells": [
  {
   "cell_type": "code",
   "execution_count": 1,
   "metadata": {},
   "outputs": [],
   "source": [
    "%load_ext autoreload\n",
    "%autoreload 2"
   ]
  },
  {
   "cell_type": "code",
   "execution_count": 2,
   "metadata": {},
   "outputs": [],
   "source": [
    "import pandas as pd\n",
    "import numpy as np\n",
    "import seaborn as sns\n",
    "\n",
    "from paths import RAW_DIR, STAGE_DIR\n",
    "from display import cdisplay"
   ]
  },
  {
   "cell_type": "code",
   "execution_count": 12,
   "metadata": {},
   "outputs": [],
   "source": [
    "data = pd.read_parquet(STAGE_DIR / 'process' / 'predictions.parquet')\n",
    "data_univariate = pd.read_parquet(STAGE_DIR / 'process' / 'predictions_univariate.parquet')\n",
    "data_multivariate = pd.read_parquet(STAGE_DIR / 'process' / 'predictions_multivariate.parquet')"
   ]
  },
  {
   "cell_type": "code",
   "execution_count": 18,
   "metadata": {},
   "outputs": [],
   "source": [
    "TARGET = 'HeartDiseaseorAttack'\n",
    "POST_TREATMENT_COST = 50000\n",
    "PLAN_COST = 1000\n",
    "REDUCTION_GOAL_PERCENTAGE = 0.8\n",
    "ACCEPTANCE_PERCENTAGE = 0.85\n",
    "RISK_REDUCTION_PERCENTAGE = 0.75"
   ]
  },
  {
   "cell_type": "code",
   "execution_count": 5,
   "metadata": {},
   "outputs": [],
   "source": [
    "baseline_cost = data[data[TARGET].eq(1)].shape[0] * POST_TREATMENT_COST\n",
    "goal_cost = baseline_cost * REDUCTION_GOAL_PERCENTAGE"
   ]
  },
  {
   "attachments": {},
   "cell_type": "markdown",
   "metadata": {},
   "source": [
    "# Basic cost analysis"
   ]
  },
  {
   "attachments": {},
   "cell_type": "markdown",
   "metadata": {},
   "source": [
    "The basic cost analysis strategy aims to know the plan's adherance percentage needed to achieve the 20% cost's reduction. The model output is used to select the most vulnerable population to be offer the plan and reducing also the heart attack risk in the population."
   ]
  },
  {
   "cell_type": "code",
   "execution_count": 28,
   "metadata": {},
   "outputs": [],
   "source": [
    "def cost_analysis(df, prob_column, target_column, reduction_goal, acceptance_percentage, pre_cost, post_cost, risk_reduction):\n",
    "    # get amount of people\n",
    "    population_amount = data[data[target_column].eq(1)].shape[0]\n",
    "    print(f'{population_amount=}')\n",
    "    # select population who will receive the offer\n",
    "    offer_population = df.sort_values(prob_column, ascending=False) \\\n",
    "                         .iloc[:population_amount]\n",
    "    # randomly select population who will accept the plan based on\n",
    "    # 85% assumption\n",
    "    accept_population = offer_population.sample(frac=acceptance_percentage)\n",
    "    # get baseline cost to reduce with the plan\n",
    "    baseline_cost = population_amount * post_cost\n",
    "    print(f'{baseline_cost=}')\n",
    "    # get reduced cost\n",
    "    reduced_cost = baseline_cost * reduction_goal\n",
    "    print(f'{reduced_cost=}')\n",
    "    # amount of people that should adhere the plan in order to achieve the goal\n",
    "    adherence_amount = (baseline_cost - reduced_cost) / (post_cost - pre_cost)\n",
    "    print(f'{adherence_amount=}')\n",
    "    # get percentage of adherance\n",
    "    adherence_percentage = adherence_amount / accept_population.shape[0]\n",
    "    print(f'{adherence_percentage=}')\n",
    "\n",
    "    # adherance population\n",
    "    adherence_population = accept_population.sample(frac=adherence_percentage)\n",
    "    # mean vulnerable population's risk\n",
    "    mean_baseline_risk = offer_population[prob_column].mean()\n",
    "    print(f'{mean_baseline_risk=}')\n",
    "    # readuce vulnerable population's risk\n",
    "    mean_reduced_risk = np.where(\n",
    "        offer_population.index.isin(adherence_population.index),\n",
    "        offer_population[prob_column] * risk_reduction,\n",
    "        offer_population[prob_column]\n",
    "    ).mean()\n",
    "    print(f'{mean_reduced_risk=}')\n"
   ]
  },
  {
   "cell_type": "code",
   "execution_count": 29,
   "metadata": {},
   "outputs": [
    {
     "name": "stdout",
     "output_type": "stream",
     "text": [
      "population_amount=23893\n",
      "baseline_cost=1194650000\n",
      "reduced_cost=955720000.0\n",
      "adherence_amount=4876.122448979592\n",
      "adherence_percentage=0.24009662952285155\n",
      "mean_baseline_risk=0.5202128641045853\n",
      "mean_reduced_risk=0.49370548527736735\n"
     ]
    }
   ],
   "source": [
    "cost_analysis(\n",
    "    df=data,\n",
    "    prob_column='proba',\n",
    "    target_column=TARGET,\n",
    "    reduction_goal=REDUCTION_GOAL_PERCENTAGE,\n",
    "    acceptance_percentage=ACCEPTANCE_PERCENTAGE,\n",
    "    pre_cost=PLAN_COST,\n",
    "    post_cost=POST_TREATMENT_COST,\n",
    "    risk_reduction=RISK_REDUCTION_PERCENTAGE\n",
    ")"
   ]
  },
  {
   "attachments": {},
   "cell_type": "markdown",
   "metadata": {},
   "source": [
    "# Complex cost analysis"
   ]
  },
  {
   "cell_type": "code",
   "execution_count": null,
   "metadata": {},
   "outputs": [],
   "source": []
  }
 ],
 "metadata": {
  "kernelspec": {
   "display_name": "heart-disease",
   "language": "python",
   "name": "python3"
  },
  "language_info": {
   "codemirror_mode": {
    "name": "ipython",
    "version": 3
   },
   "file_extension": ".py",
   "mimetype": "text/x-python",
   "name": "python",
   "nbconvert_exporter": "python",
   "pygments_lexer": "ipython3",
   "version": "3.10.8"
  },
  "orig_nbformat": 4,
  "vscode": {
   "interpreter": {
    "hash": "de77a653a4b3320765c64bb1bf99afc6cca0291a299964ed307e2be0e12db7f3"
   }
  }
 },
 "nbformat": 4,
 "nbformat_minor": 2
}
